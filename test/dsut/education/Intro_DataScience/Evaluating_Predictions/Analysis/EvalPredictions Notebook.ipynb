{
 "cells": [
  {
   "cell_type": "markdown",
   "metadata": {},
   "source": [
    "# Evaluating Predictions\n",
    "\n",
    "[*Andrew Wheeler*, PhD](mailto:andrew.wheeler@hms.com)\n",
    "\n",
    "This is an example notebook to go along with the Evaluating Predictions presentation."
   ]
  },
  {
   "cell_type": "code",
   "execution_count": 1,
   "metadata": {},
   "outputs": [
    {
     "data": {
      "text/html": [
       "<div>\n",
       "<style scoped>\n",
       "    .dataframe tbody tr th:only-of-type {\n",
       "        vertical-align: middle;\n",
       "    }\n",
       "\n",
       "    .dataframe tbody tr th {\n",
       "        vertical-align: top;\n",
       "    }\n",
       "\n",
       "    .dataframe thead th {\n",
       "        text-align: right;\n",
       "    }\n",
       "</style>\n",
       "<table border=\"1\" class=\"dataframe\">\n",
       "  <thead>\n",
       "    <tr style=\"text-align: right;\">\n",
       "      <th></th>\n",
       "      <th>Inspection_ID</th>\n",
       "      <th>Inspector</th>\n",
       "      <th>pastSerious</th>\n",
       "      <th>pastCritical</th>\n",
       "      <th>timeSinceLast</th>\n",
       "      <th>ageAtInspection</th>\n",
       "      <th>consumption_on_premises_incidental_activity</th>\n",
       "      <th>tobacco_retail_over_counter</th>\n",
       "      <th>temperatureMax</th>\n",
       "      <th>heat_sanitation</th>\n",
       "      <th>heat_garbage</th>\n",
       "      <th>criticalFound</th>\n",
       "    </tr>\n",
       "  </thead>\n",
       "  <tbody>\n",
       "    <tr>\n",
       "      <td>0</td>\n",
       "      <td>269961</td>\n",
       "      <td>green</td>\n",
       "      <td>0</td>\n",
       "      <td>0</td>\n",
       "      <td>2.0</td>\n",
       "      <td>1</td>\n",
       "      <td>0</td>\n",
       "      <td>1</td>\n",
       "      <td>53.496667</td>\n",
       "      <td>37.748787</td>\n",
       "      <td>12.768572</td>\n",
       "      <td>0</td>\n",
       "    </tr>\n",
       "    <tr>\n",
       "      <td>1</td>\n",
       "      <td>507211</td>\n",
       "      <td>blue</td>\n",
       "      <td>0</td>\n",
       "      <td>0</td>\n",
       "      <td>2.0</td>\n",
       "      <td>1</td>\n",
       "      <td>0</td>\n",
       "      <td>0</td>\n",
       "      <td>59.046667</td>\n",
       "      <td>15.412267</td>\n",
       "      <td>12.895485</td>\n",
       "      <td>0</td>\n",
       "    </tr>\n",
       "    <tr>\n",
       "      <td>2</td>\n",
       "      <td>507212</td>\n",
       "      <td>blue</td>\n",
       "      <td>0</td>\n",
       "      <td>0</td>\n",
       "      <td>2.0</td>\n",
       "      <td>1</td>\n",
       "      <td>0</td>\n",
       "      <td>0</td>\n",
       "      <td>59.046667</td>\n",
       "      <td>8.320330</td>\n",
       "      <td>8.004220</td>\n",
       "      <td>0</td>\n",
       "    </tr>\n",
       "    <tr>\n",
       "      <td>3</td>\n",
       "      <td>507216</td>\n",
       "      <td>blue</td>\n",
       "      <td>0</td>\n",
       "      <td>0</td>\n",
       "      <td>2.0</td>\n",
       "      <td>1</td>\n",
       "      <td>0</td>\n",
       "      <td>0</td>\n",
       "      <td>56.153333</td>\n",
       "      <td>38.186618</td>\n",
       "      <td>26.238645</td>\n",
       "      <td>0</td>\n",
       "    </tr>\n",
       "    <tr>\n",
       "      <td>4</td>\n",
       "      <td>507219</td>\n",
       "      <td>blue</td>\n",
       "      <td>0</td>\n",
       "      <td>0</td>\n",
       "      <td>2.0</td>\n",
       "      <td>1</td>\n",
       "      <td>0</td>\n",
       "      <td>0</td>\n",
       "      <td>52.730000</td>\n",
       "      <td>2.126788</td>\n",
       "      <td>3.401567</td>\n",
       "      <td>0</td>\n",
       "    </tr>\n",
       "  </tbody>\n",
       "</table>\n",
       "</div>"
      ],
      "text/plain": [
       "   Inspection_ID Inspector  pastSerious  pastCritical  timeSinceLast  \\\n",
       "0         269961     green            0             0            2.0   \n",
       "1         507211      blue            0             0            2.0   \n",
       "2         507212      blue            0             0            2.0   \n",
       "3         507216      blue            0             0            2.0   \n",
       "4         507219      blue            0             0            2.0   \n",
       "\n",
       "   ageAtInspection  consumption_on_premises_incidental_activity  \\\n",
       "0                1                                            0   \n",
       "1                1                                            0   \n",
       "2                1                                            0   \n",
       "3                1                                            0   \n",
       "4                1                                            0   \n",
       "\n",
       "   tobacco_retail_over_counter  temperatureMax  heat_sanitation  heat_garbage  \\\n",
       "0                            1       53.496667        37.748787     12.768572   \n",
       "1                            0       59.046667        15.412267     12.895485   \n",
       "2                            0       59.046667         8.320330      8.004220   \n",
       "3                            0       56.153333        38.186618     26.238645   \n",
       "4                            0       52.730000         2.126788      3.401567   \n",
       "\n",
       "   criticalFound  \n",
       "0              0  \n",
       "1              0  \n",
       "2              0  \n",
       "3              0  \n",
       "4              0  "
      ]
     },
     "execution_count": 1,
     "metadata": {},
     "output_type": "execute_result"
    }
   ],
   "source": [
    "#Loading in the libraries we will be using\n",
    "import pandas as pd\n",
    "import numpy as np\n",
    "import os\n",
    "import matplotlib.pyplot as plt\n",
    "\n",
    "#The models\n",
    "from sklearn.linear_model import LogisticRegression\n",
    "from sklearn.ensemble import RandomForestClassifier\n",
    "\n",
    "#For evaluation\n",
    "from sklearn.metrics import confusion_matrix, roc_curve, auc\n",
    "from sklearn.model_selection import train_test_split\n",
    "\n",
    "#Setting the working directory to where our data is stored\n",
    "os.chdir(r'C:\\Users\\e009156\\Documents\\GitHub\\data-science-utils\\education\\Intro_DataScience\\Evaluating_Predictions\\Analysis')\n",
    "\n",
    "#Reading in the CSV data of food inspections\n",
    "insp_dat = pd.read_csv('FoodInspect.csv')\n",
    "\n",
    "#A quick view of the first few rows of data\n",
    "insp_dat.head()"
   ]
  },
  {
   "cell_type": "code",
   "execution_count": 2,
   "metadata": {},
   "outputs": [
    {
     "name": "stdout",
     "output_type": "stream",
     "text": [
      "green     4940\n",
      "orange    4068\n",
      "blue      3434\n",
      "yellow    3004\n",
      "brown     1993\n",
      "purple    1273\n",
      "Name: Inspector, dtype: int64\n",
      "\n",
      "Independent Variables\n",
      "['tobacco_retail_over_counter', 'yellow', 'pastSerious', 'blue', 'orange', 'heat_sanitation', 'brown', 'ageAtInspection', 'temperatureMax', 'timeSinceLast', 'consumption_on_premises_incidental_activity', 'purple', 'green', 'pastCritical', 'heat_garbage']\n"
     ]
    }
   ],
   "source": [
    "#Data Prep\n",
    "\n",
    "#We only have a few inspectors, so dummy coding those\n",
    "print( insp_dat['Inspector'].value_counts() )\n",
    "insp_dum = pd.get_dummies(insp_dat['Inspector'], drop_first=False)\n",
    "my_dat = pd.concat([insp_dat, insp_dum], axis=1)\n",
    "\n",
    "#variable we are predicting -- if restaurant failed their inspection\n",
    "dep_var = 'criticalFound'\n",
    "\n",
    "#Inspection ID is not needed for the predictive model\n",
    "drop_vars = ['Inspection_ID','Inspector']  #I dont want these variables in the model\n",
    "ind_vars =  list( set(my_dat) - set(drop_vars + [dep_var]) )\n",
    "print(\"\\nIndependent Variables\")\n",
    "print(ind_vars)"
   ]
  },
  {
   "cell_type": "code",
   "execution_count": 3,
   "metadata": {},
   "outputs": [
    {
     "data": {
      "text/plain": [
       "RandomForestClassifier(bootstrap=True, class_weight=None, criterion='gini',\n",
       "                       max_depth=20, max_features='auto', max_leaf_nodes=None,\n",
       "                       min_impurity_decrease=0.0, min_impurity_split=None,\n",
       "                       min_samples_leaf=30, min_samples_split=2,\n",
       "                       min_weight_fraction_leaf=0.0, n_estimators=500,\n",
       "                       n_jobs=None, oob_score=False, random_state=None,\n",
       "                       verbose=0, warm_start=False)"
      ]
     },
     "execution_count": 3,
     "metadata": {},
     "output_type": "execute_result"
    }
   ],
   "source": [
    "#Now creating a train dataset (70% of the data, ~13,000 cases) and a test dataset (30% of the data, ~5,000 cases)\n",
    "train, test = train_test_split(my_dat, test_size=0.3)\n",
    "\n",
    "#Estimating the models on the TRAINING data\n",
    "\n",
    "#estimating a logistic regression model\n",
    "logit_model = LogisticRegression(penalty='none', solver='newton-cg',fit_intercept=False) \n",
    "logit_model.fit(X = train[ind_vars], y = train[dep_var])\n",
    "\n",
    "#estimating a random forest model\n",
    "rf_model = RandomForestClassifier(n_estimators=500, max_depth=20, min_samples_leaf=30)\n",
    "rf_model.fit(X = train[ind_vars], y = train[dep_var])"
   ]
  },
  {
   "cell_type": "code",
   "execution_count": 4,
   "metadata": {},
   "outputs": [
    {
     "name": "stdout",
     "output_type": "stream",
     "text": [
      "Accuracy Logit Model\n",
      "0.83\n",
      "              Predict Pass  Predict Fail\n",
      "Pass Inspect          4459           349\n",
      "Fail Inspect           615           191\n",
      "\n",
      "Accuracy Random Forest Model\n",
      "0.83\n",
      "              Predict Pass  Predict Fail\n",
      "Pass Inspect          4494           314\n",
      "Fail Inspect           641           165\n"
     ]
    }
   ],
   "source": [
    "#Generating Predicted Probabilities on the TEST dataset for each model\n",
    "pred_probL = logit_model.predict_proba(X = test[ind_vars])[::,1]\n",
    "pred_probR = rf_model.predict_proba(X = test[ind_vars])[::,1]\n",
    "\n",
    "#Generating a confusion matrix, setting threshold to predict failed inspection at 30%\n",
    "th = 0.30\n",
    "con_matL = pd.DataFrame(confusion_matrix(test[dep_var], pred_probL > th),\n",
    "                       columns=['Predict Pass','Predict Fail'], index=['Pass Inspect', 'Fail Inspect'])\n",
    "con_matR = pd.DataFrame(confusion_matrix(test[dep_var], pred_probR > th),\n",
    "                       columns=['Predict Pass','Predict Fail'], index=['Pass Inspect', 'Fail Inspect'])\n",
    "\n",
    "#The correct guesses are on the diagonal of the confusion matrix\n",
    "accuracyL = (con_matL.iloc[0,0] + con_matL.iloc[1,1] ) / len(test)\n",
    "print(\"Accuracy Logit Model\")\n",
    "print(\"%.2f\" % accuracyL)\n",
    "print( con_matL )\n",
    "\n",
    "accuracyR = (con_matR.iloc[0,0] + con_matR.iloc[1,1] ) / len(test)\n",
    "print(\"\\nAccuracy Random Forest Model\")\n",
    "print(\"%.2f\" % accuracyR)\n",
    "print( con_matR )"
   ]
  },
  {
   "cell_type": "code",
   "execution_count": 5,
   "metadata": {},
   "outputs": [
    {
     "name": "stdout",
     "output_type": "stream",
     "text": [
      "AUC Statistic for Logit Model\n",
      "0.71\n",
      "\n",
      "AUC Statistic for Random Forest Model\n",
      "0.71\n"
     ]
    }
   ],
   "source": [
    "#Evaluating the AUC of the two models, and plot the ROC curves\n",
    "\n",
    "#Getting the ROC curve statistics\n",
    "fprL, tprL, threshL = roc_curve(test[dep_var], pred_probL, pos_label=1)\n",
    "fprR, tprR, threshR = roc_curve(test[dep_var], pred_probR, pos_label=1)\n",
    "\n",
    "#Calculating the Area Under the Curve for each model\n",
    "aucL = auc(fprL, tprL)\n",
    "print(\"AUC Statistic for Logit Model\")\n",
    "print(round(aucL,2))\n",
    "\n",
    "aucR = auc(fprR, tprR)\n",
    "print(\"\\nAUC Statistic for Random Forest Model\")\n",
    "print(round(aucR,2))"
   ]
  },
  {
   "cell_type": "code",
   "execution_count": 6,
   "metadata": {},
   "outputs": [
    {
     "data": {
      "image/png": "[encoded data removed]",
      "text/plain": [
       "<Figure size 432x432 with 1 Axes>"
      ]
     },
     "metadata": {
      "needs_background": "light"
     },
     "output_type": "display_data"
    }
   ],
   "source": [
    "#Now making an ROC graph to illustrate\n",
    "fig, ax = plt.subplots()\n",
    "fig.set_size_inches(6,6)\n",
    "ax.plot(fprL, tprL, drawstyle='steps-post', label='Logistic Model', linewidth=2)\n",
    "ax.plot(fprR, tprR, drawstyle='steps-post', label='Random Forest Model', linewidth=2)\n",
    "ax.plot([0,1], [0,1], color='grey', linewidth=0.8) #mid-reference line\n",
    "ax.set_title(\"ROC Plot\") \n",
    "plt.xticks(np.arange(0,1.1,0.1))\n",
    "plt.yticks(np.arange(0,1.1,0.1))\n",
    "ax.legend(loc='lower right')\n",
    "ax.set_xlabel('False Positive Rate')\n",
    "ax.set_ylabel('True Positive Rate')\n",
    "ax.set_aspect(aspect='equal')\n",
    "plt.show()"
   ]
  }
 ],
 "metadata": {
  "kernelspec": {
   "display_name": "Python 3",
   "language": "python",
   "name": "python3"
  },
  "language_info": {
   "codemirror_mode": {
    "name": "ipython",
    "version": 3
   },
   "file_extension": ".py",
   "mimetype": "text/x-python",
   "name": "python",
   "nbconvert_exporter": "python",
   "pygments_lexer": "ipython3",
   "version": "3.7.4"
  }
 },
 "nbformat": 4,
 "nbformat_minor": 2
}
