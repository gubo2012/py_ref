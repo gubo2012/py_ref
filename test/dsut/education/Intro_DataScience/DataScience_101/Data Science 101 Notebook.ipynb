{
 "cells": [
  {
   "cell_type": "markdown",
   "metadata": {},
   "source": [
    "# Data Science 101\n",
    "\n",
    "[*Andrew Wheeler*, PhD](mailto:andrew.wheeler@hms.com)\n",
    "\n",
    "This is an example notebook to go along with the Data Science 101 presentation. "
   ]
  },
  {
   "cell_type": "code",
   "execution_count": 1,
   "metadata": {},
   "outputs": [
    {
     "data": {
      "text/html": [
       "<div>\n",
       "<style scoped>\n",
       "    .dataframe tbody tr th:only-of-type {\n",
       "        vertical-align: middle;\n",
       "    }\n",
       "\n",
       "    .dataframe tbody tr th {\n",
       "        vertical-align: top;\n",
       "    }\n",
       "\n",
       "    .dataframe thead th {\n",
       "        text-align: right;\n",
       "    }\n",
       "</style>\n",
       "<table border=\"1\" class=\"dataframe\">\n",
       "  <thead>\n",
       "    <tr style=\"text-align: right;\">\n",
       "      <th></th>\n",
       "      <th>Obese_BMI</th>\n",
       "      <th>CurrentSmoker</th>\n",
       "      <th>SEX</th>\n",
       "      <th>MinActWeek</th>\n",
       "      <th>AgeMid</th>\n",
       "    </tr>\n",
       "  </thead>\n",
       "  <tbody>\n",
       "    <tr>\n",
       "      <td>0</td>\n",
       "      <td>1</td>\n",
       "      <td>0</td>\n",
       "      <td>Male</td>\n",
       "      <td>120.0</td>\n",
       "      <td>70</td>\n",
       "    </tr>\n",
       "    <tr>\n",
       "      <td>1</td>\n",
       "      <td>0</td>\n",
       "      <td>0</td>\n",
       "      <td>Female</td>\n",
       "      <td>0.0</td>\n",
       "      <td>60</td>\n",
       "    </tr>\n",
       "    <tr>\n",
       "      <td>2</td>\n",
       "      <td>0</td>\n",
       "      <td>0</td>\n",
       "      <td>Male</td>\n",
       "      <td>336.0</td>\n",
       "      <td>70</td>\n",
       "    </tr>\n",
       "    <tr>\n",
       "      <td>3</td>\n",
       "      <td>0</td>\n",
       "      <td>0</td>\n",
       "      <td>Female</td>\n",
       "      <td>420.0</td>\n",
       "      <td>30</td>\n",
       "    </tr>\n",
       "    <tr>\n",
       "      <td>4</td>\n",
       "      <td>0</td>\n",
       "      <td>0</td>\n",
       "      <td>Female</td>\n",
       "      <td>300.0</td>\n",
       "      <td>60</td>\n",
       "    </tr>\n",
       "  </tbody>\n",
       "</table>\n",
       "</div>"
      ],
      "text/plain": [
       "   Obese_BMI  CurrentSmoker     SEX  MinActWeek  AgeMid\n",
       "0          1              0    Male       120.0      70\n",
       "1          0              0  Female         0.0      60\n",
       "2          0              0    Male       336.0      70\n",
       "3          0              0  Female       420.0      30\n",
       "4          0              0  Female       300.0      60"
      ]
     },
     "execution_count": 1,
     "metadata": {},
     "output_type": "execute_result"
    }
   ],
   "source": [
    "#Loading in the libraries we will be using\n",
    "import pandas as pd\n",
    "from sklearn.linear_model import LogisticRegression\n",
    "import os\n",
    "\n",
    "#Setting the working directory to where our data is stored\n",
    "os.chdir(r'C:\\Users\\e009156\\Documents\\DataScience_Notes\\DataScience_101')\n",
    "\n",
    "#Reading in the CSV data\n",
    "brfss_dat = pd.read_csv('Prepped_BRFSS2015.csv')\n",
    "\n",
    "#A quick view of the first few rows of data\n",
    "brfss_dat.head()"
   ]
  },
  {
   "cell_type": "code",
   "execution_count": 2,
   "metadata": {},
   "outputs": [
    {
     "data": {
      "text/html": [
       "<div>\n",
       "<style scoped>\n",
       "    .dataframe tbody tr th:only-of-type {\n",
       "        vertical-align: middle;\n",
       "    }\n",
       "\n",
       "    .dataframe tbody tr th {\n",
       "        vertical-align: top;\n",
       "    }\n",
       "\n",
       "    .dataframe thead th {\n",
       "        text-align: right;\n",
       "    }\n",
       "</style>\n",
       "<table border=\"1\" class=\"dataframe\">\n",
       "  <thead>\n",
       "    <tr style=\"text-align: right;\">\n",
       "      <th></th>\n",
       "      <th>Obese_BMI</th>\n",
       "      <th>CurrentSmoker</th>\n",
       "      <th>MinActWeek</th>\n",
       "      <th>AgeMid</th>\n",
       "    </tr>\n",
       "  </thead>\n",
       "  <tbody>\n",
       "    <tr>\n",
       "      <td>count</td>\n",
       "      <td>11156.000000</td>\n",
       "      <td>11156.000000</td>\n",
       "      <td>11156.000000</td>\n",
       "      <td>11156.000000</td>\n",
       "    </tr>\n",
       "    <tr>\n",
       "      <td>mean</td>\n",
       "      <td>0.262011</td>\n",
       "      <td>0.134726</td>\n",
       "      <td>133.691466</td>\n",
       "      <td>54.147544</td>\n",
       "    </tr>\n",
       "    <tr>\n",
       "      <td>std</td>\n",
       "      <td>0.439749</td>\n",
       "      <td>0.341446</td>\n",
       "      <td>240.147264</td>\n",
       "      <td>15.486705</td>\n",
       "    </tr>\n",
       "    <tr>\n",
       "      <td>min</td>\n",
       "      <td>0.000000</td>\n",
       "      <td>0.000000</td>\n",
       "      <td>0.000000</td>\n",
       "      <td>20.000000</td>\n",
       "    </tr>\n",
       "    <tr>\n",
       "      <td>25%</td>\n",
       "      <td>0.000000</td>\n",
       "      <td>0.000000</td>\n",
       "      <td>0.000000</td>\n",
       "      <td>40.000000</td>\n",
       "    </tr>\n",
       "    <tr>\n",
       "      <td>50%</td>\n",
       "      <td>0.000000</td>\n",
       "      <td>0.000000</td>\n",
       "      <td>56.000000</td>\n",
       "      <td>60.000000</td>\n",
       "    </tr>\n",
       "    <tr>\n",
       "      <td>75%</td>\n",
       "      <td>1.000000</td>\n",
       "      <td>0.000000</td>\n",
       "      <td>180.000000</td>\n",
       "      <td>70.000000</td>\n",
       "    </tr>\n",
       "    <tr>\n",
       "      <td>max</td>\n",
       "      <td>1.000000</td>\n",
       "      <td>1.000000</td>\n",
       "      <td>3360.000000</td>\n",
       "      <td>70.000000</td>\n",
       "    </tr>\n",
       "  </tbody>\n",
       "</table>\n",
       "</div>"
      ],
      "text/plain": [
       "          Obese_BMI  CurrentSmoker    MinActWeek        AgeMid\n",
       "count  11156.000000   11156.000000  11156.000000  11156.000000\n",
       "mean       0.262011       0.134726    133.691466     54.147544\n",
       "std        0.439749       0.341446    240.147264     15.486705\n",
       "min        0.000000       0.000000      0.000000     20.000000\n",
       "25%        0.000000       0.000000      0.000000     40.000000\n",
       "50%        0.000000       0.000000     56.000000     60.000000\n",
       "75%        1.000000       0.000000    180.000000     70.000000\n",
       "max        1.000000       1.000000   3360.000000     70.000000"
      ]
     },
     "execution_count": 2,
     "metadata": {},
     "output_type": "execute_result"
    }
   ],
   "source": [
    "#Browsing the data\n",
    "\n",
    "brfss_dat.describe()"
   ]
  },
  {
   "cell_type": "code",
   "execution_count": 3,
   "metadata": {},
   "outputs": [
    {
     "data": {
      "text/plain": [
       "Female    6280\n",
       "Male      4876\n",
       "Name: SEX, dtype: int64"
      ]
     },
     "execution_count": 3,
     "metadata": {},
     "output_type": "execute_result"
    }
   ],
   "source": [
    "#Can also look at the counts of individual categories\n",
    "\n",
    "brfss_dat['SEX'].value_counts()"
   ]
  },
  {
   "cell_type": "code",
   "execution_count": 4,
   "metadata": {},
   "outputs": [
    {
     "data": {
      "text/html": [
       "<div>\n",
       "<style scoped>\n",
       "    .dataframe tbody tr th:only-of-type {\n",
       "        vertical-align: middle;\n",
       "    }\n",
       "\n",
       "    .dataframe tbody tr th {\n",
       "        vertical-align: top;\n",
       "    }\n",
       "\n",
       "    .dataframe thead th {\n",
       "        text-align: right;\n",
       "    }\n",
       "</style>\n",
       "<table border=\"1\" class=\"dataframe\">\n",
       "  <thead>\n",
       "    <tr style=\"text-align: right;\">\n",
       "      <th>CurrentSmoker</th>\n",
       "      <th>0</th>\n",
       "      <th>1</th>\n",
       "    </tr>\n",
       "    <tr>\n",
       "      <th>SEX</th>\n",
       "      <th></th>\n",
       "      <th></th>\n",
       "    </tr>\n",
       "  </thead>\n",
       "  <tbody>\n",
       "    <tr>\n",
       "      <td>Female</td>\n",
       "      <td>5487</td>\n",
       "      <td>793</td>\n",
       "    </tr>\n",
       "    <tr>\n",
       "      <td>Male</td>\n",
       "      <td>4166</td>\n",
       "      <td>710</td>\n",
       "    </tr>\n",
       "  </tbody>\n",
       "</table>\n",
       "</div>"
      ],
      "text/plain": [
       "CurrentSmoker     0    1\n",
       "SEX                     \n",
       "Female         5487  793\n",
       "Male           4166  710"
      ]
     },
     "execution_count": 4,
     "metadata": {},
     "output_type": "execute_result"
    }
   ],
   "source": [
    "#Sex by Smoking status\n",
    "\n",
    "smoke_ct = pd.crosstab(brfss_dat['SEX'],brfss_dat['CurrentSmoker'])\n",
    "smoke_ct.plot.bar()\n",
    "smoke_ct"
   ]
  },
  {
   "cell_type": "code",
   "execution_count": 5,
   "metadata": {},
   "outputs": [
    {
     "data": {
      "text/plain": [
       "<matplotlib.axes._subplots.AxesSubplot at 0x295c8fa4088>"
      ]
     },
     "execution_count": 5,
     "metadata": {},
     "output_type": "execute_result"
    },
    {
     "data": {
      "image/png": "[encoded data removed]",
      "text/plain": [
       "<Figure size 576x432 with 1 Axes>"
      ]
     },
     "metadata": {
      "needs_background": "light"
     },
     "output_type": "display_data"
    }
   ],
   "source": [
    "#boxplot of age bins on X axis, and y is activity per week\n",
    "\n",
    "brfss_dat.boxplot(column = 'MinActWeek', by='AgeMid', grid=False, showfliers=False, figsize=(8,6))"
   ]
  },
  {
   "cell_type": "code",
   "execution_count": 6,
   "metadata": {},
   "outputs": [
    {
     "name": "stdout",
     "output_type": "stream",
     "text": [
      "[-1.28684424] [[-0.06533616 -0.00085874  0.00690985  0.05603045]]\n"
     ]
    }
   ],
   "source": [
    "#Estimating a logistic regression equation\n",
    "\n",
    "#Changing sex to dummy variable, regression does not understand text\n",
    "brfss_dat['Male'] = 1*(brfss_dat['SEX'] == 'Male')\n",
    "ind_vars = ['Male','MinActWeek','AgeMid','CurrentSmoker']\n",
    "\n",
    "logit_model = LogisticRegression(penalty='none', solver='newton-cg')\n",
    "logit_model.fit(X = brfss_dat[ind_vars], y = brfss_dat['Obese_BMI'])\n",
    "\n",
    "print( logit_model.intercept_, logit_model.coef_ )\n"
   ]
  },
  {
   "cell_type": "code",
   "execution_count": 7,
   "metadata": {},
   "outputs": [
    {
     "name": "stdout",
     "output_type": "stream",
     "text": [
      "Accuracy\n",
      "0.69\n"
     ]
    },
    {
     "data": {
      "text/html": [
       "<div>\n",
       "<style scoped>\n",
       "    .dataframe tbody tr th:only-of-type {\n",
       "        vertical-align: middle;\n",
       "    }\n",
       "\n",
       "    .dataframe tbody tr th {\n",
       "        vertical-align: top;\n",
       "    }\n",
       "\n",
       "    .dataframe thead th {\n",
       "        text-align: right;\n",
       "    }\n",
       "</style>\n",
       "<table border=\"1\" class=\"dataframe\">\n",
       "  <thead>\n",
       "    <tr style=\"text-align: right;\">\n",
       "      <th></th>\n",
       "      <th>Predict No</th>\n",
       "      <th>Predict Yes</th>\n",
       "    </tr>\n",
       "  </thead>\n",
       "  <tbody>\n",
       "    <tr>\n",
       "      <td>Not Obese</td>\n",
       "      <td>7272</td>\n",
       "      <td>961</td>\n",
       "    </tr>\n",
       "    <tr>\n",
       "      <td>Obese</td>\n",
       "      <td>2503</td>\n",
       "      <td>420</td>\n",
       "    </tr>\n",
       "  </tbody>\n",
       "</table>\n",
       "</div>"
      ],
      "text/plain": [
       "           Predict No  Predict Yes\n",
       "Not Obese        7272          961\n",
       "Obese            2503          420"
      ]
     },
     "execution_count": 7,
     "metadata": {},
     "output_type": "execute_result"
    }
   ],
   "source": [
    "#How well do our predictions do\n",
    "from sklearn.metrics import confusion_matrix\n",
    "\n",
    "#Getting the predicted probability of obesity per our model\n",
    "pred_prob = logit_model.predict_proba(X = brfss_dat[ind_vars])[::,1]\n",
    "\n",
    "#Generating a confusion matrix, setting threshold to predict obese at 30%\n",
    "con_mat = pd.DataFrame(confusion_matrix(brfss_dat['Obese_BMI'], pred_prob > 0.3),\n",
    "                       columns=['Predict No','Predict Yes'], index=['Not Obese', 'Obese'])\n",
    "\n",
    "#The correct guesses are on the diagonal of the confusion matrix\n",
    "accuracy = (con_mat.iloc[0,0] + con_mat.iloc[1,1] ) / len(brfss_dat)\n",
    "print(\"Accuracy\")\n",
    "print(\"%.2f\" % accuracy)\n",
    "\n",
    "con_mat"
   ]
  },
  {
   "cell_type": "code",
   "execution_count": 8,
   "metadata": {},
   "outputs": [
    {
     "data": {
      "text/html": [
       "<div>\n",
       "<style scoped>\n",
       "    .dataframe tbody tr th:only-of-type {\n",
       "        vertical-align: middle;\n",
       "    }\n",
       "\n",
       "    .dataframe tbody tr th {\n",
       "        vertical-align: top;\n",
       "    }\n",
       "\n",
       "    .dataframe thead th {\n",
       "        text-align: right;\n",
       "    }\n",
       "</style>\n",
       "<table border=\"1\" class=\"dataframe\">\n",
       "  <thead>\n",
       "    <tr style=\"text-align: right;\">\n",
       "      <th></th>\n",
       "      <th>Male</th>\n",
       "      <th>MinActWeek</th>\n",
       "      <th>AgeMid</th>\n",
       "      <th>CurrentSmoker</th>\n",
       "      <th>PredProbMale</th>\n",
       "    </tr>\n",
       "  </thead>\n",
       "  <tbody>\n",
       "    <tr>\n",
       "      <td>0</td>\n",
       "      <td>1</td>\n",
       "      <td>0</td>\n",
       "      <td>40</td>\n",
       "      <td>0</td>\n",
       "      <td>0.254304</td>\n",
       "    </tr>\n",
       "    <tr>\n",
       "      <td>1</td>\n",
       "      <td>1</td>\n",
       "      <td>60</td>\n",
       "      <td>40</td>\n",
       "      <td>0</td>\n",
       "      <td>0.244658</td>\n",
       "    </tr>\n",
       "    <tr>\n",
       "      <td>2</td>\n",
       "      <td>1</td>\n",
       "      <td>120</td>\n",
       "      <td>40</td>\n",
       "      <td>0</td>\n",
       "      <td>0.235262</td>\n",
       "    </tr>\n",
       "    <tr>\n",
       "      <td>3</td>\n",
       "      <td>1</td>\n",
       "      <td>180</td>\n",
       "      <td>40</td>\n",
       "      <td>0</td>\n",
       "      <td>0.226118</td>\n",
       "    </tr>\n",
       "    <tr>\n",
       "      <td>4</td>\n",
       "      <td>1</td>\n",
       "      <td>240</td>\n",
       "      <td>40</td>\n",
       "      <td>0</td>\n",
       "      <td>0.217230</td>\n",
       "    </tr>\n",
       "    <tr>\n",
       "      <td>5</td>\n",
       "      <td>1</td>\n",
       "      <td>300</td>\n",
       "      <td>40</td>\n",
       "      <td>0</td>\n",
       "      <td>0.208596</td>\n",
       "    </tr>\n",
       "    <tr>\n",
       "      <td>6</td>\n",
       "      <td>1</td>\n",
       "      <td>360</td>\n",
       "      <td>40</td>\n",
       "      <td>0</td>\n",
       "      <td>0.200218</td>\n",
       "    </tr>\n",
       "    <tr>\n",
       "      <td>7</td>\n",
       "      <td>1</td>\n",
       "      <td>420</td>\n",
       "      <td>40</td>\n",
       "      <td>0</td>\n",
       "      <td>0.192094</td>\n",
       "    </tr>\n",
       "  </tbody>\n",
       "</table>\n",
       "</div>"
      ],
      "text/plain": [
       "   Male  MinActWeek  AgeMid  CurrentSmoker  PredProbMale\n",
       "0     1           0      40              0      0.254304\n",
       "1     1          60      40              0      0.244658\n",
       "2     1         120      40              0      0.235262\n",
       "3     1         180      40              0      0.226118\n",
       "4     1         240      40              0      0.217230\n",
       "5     1         300      40              0      0.208596\n",
       "6     1         360      40              0      0.200218\n",
       "7     1         420      40              0      0.192094"
      ]
     },
     "execution_count": 8,
     "metadata": {},
     "output_type": "execute_result"
    }
   ],
   "source": [
    "#Apply predictions to newdata\n",
    "\n",
    "act = range(0,480,60)\n",
    "\n",
    "new_dat = pd.DataFrame({'Male': 1, 'MinActWeek': act, 'AgeMid': 40, 'CurrentSmoker': 0})\n",
    "new_dat['PredProbMale'] = logit_model.predict_proba(new_dat)[::,1]\n",
    "new_dat"
   ]
  },
  {
   "cell_type": "code",
   "execution_count": 9,
   "metadata": {},
   "outputs": [
    {
     "data": {
      "text/plain": [
       "<matplotlib.axes._subplots.AxesSubplot at 0x295c910b948>"
      ]
     },
     "execution_count": 9,
     "metadata": {},
     "output_type": "execute_result"
    },
    {
     "data": {
      "image/png": "[encoded data removed]",
      "text/plain": [
       "<Figure size 432x288 with 1 Axes>"
      ]
     },
     "metadata": {
      "needs_background": "light"
     },
     "output_type": "display_data"
    }
   ],
   "source": [
    "#Line graph comparing males to females\n",
    "new_dat['Male'] = 0\n",
    "new_dat['PredProbFemale'] = logit_model.predict_proba(new_dat[ind_vars])[::,1]\n",
    "\n",
    "new_dat[['MinActWeek','PredProbMale','PredProbFemale']].plot.line(x='MinActWeek')"
   ]
  }
 ],
 "metadata": {
  "kernelspec": {
   "display_name": "Python 3",
   "language": "python",
   "name": "python3"
  },
  "language_info": {
   "codemirror_mode": {
    "name": "ipython",
    "version": 3
   },
   "file_extension": ".py",
   "mimetype": "text/x-python",
   "name": "python",
   "nbconvert_exporter": "python",
   "pygments_lexer": "ipython3",
   "version": "3.7.4"
  }
 },
 "nbformat": 4,
 "nbformat_minor": 2
}
