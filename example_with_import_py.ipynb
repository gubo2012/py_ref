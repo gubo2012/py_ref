{
 "cells": [
  {
   "cell_type": "code",
   "execution_count": 1,
   "metadata": {},
   "outputs": [
    {
     "name": "stdout",
     "output_type": "stream",
     "text": [
      "move 1 from 0 to 1\n",
      "move 1 from 0 to 2\n",
      "move 1 from 1 to 2\n",
      "move 1 from 0 to 1\n",
      "move 1 from 2 to 0\n",
      "move 1 from 2 to 1\n",
      "move 1 from 0 to 1\n",
      "move 1 from 0 to 2\n",
      "move 1 from 1 to 2\n",
      "move 1 from 1 to 0\n",
      "move 1 from 2 to 0\n",
      "move 1 from 1 to 2\n",
      "move 1 from 0 to 1\n",
      "move 1 from 0 to 2\n",
      "move 1 from 1 to 2\n"
     ]
    }
   ],
   "source": [
    "import hanoi\n",
    "\n",
    "n = 4\n",
    "hanoi.move(0, 2, n)"
   ]
  },
  {
   "cell_type": "code",
   "execution_count": null,
   "metadata": {},
   "outputs": [],
   "source": []
  }
 ],
 "metadata": {
  "kernelspec": {
   "display_name": "Python [default]",
   "language": "python",
   "name": "python3"
  },
  "language_info": {
   "codemirror_mode": {
    "name": "ipython",
    "version": 3
   },
   "file_extension": ".py",
   "mimetype": "text/x-python",
   "name": "python",
   "nbconvert_exporter": "python",
   "pygments_lexer": "ipython3",
   "version": "3.6.4"
  }
 },
 "nbformat": 4,
 "nbformat_minor": 2
}
